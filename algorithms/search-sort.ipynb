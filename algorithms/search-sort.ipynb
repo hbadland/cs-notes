{
 "cells": [
  {
   "metadata": {},
   "cell_type": "markdown",
   "source": [
    "# Algorithms\n",
    "---\n",
    "### https://www.youtube.com/@MichaelSambol/playlists\n",
    "---\n",
    "## Search Algorithms\n",
    "### 1. Binary Search\n",
    "- Finds a target value in a sorted array, half the values are eliminated with each iteration"
   ],
   "id": "441a156b72631f80"
  },
  {
   "metadata": {},
   "cell_type": "code",
   "outputs": [],
   "execution_count": null,
   "source": [
    "def binary_search(array, target):\n",
    "    low = 0\n",
    "    high = len(array) - 1\n",
    "\n",
    "    while low <= high:\n",
    "        mid = (low + high) // 2\n",
    "\n",
    "        if array[mid] == target:\n",
    "            return mid\n",
    "        elif array[mid] < target:\n",
    "            low = mid + 1\n",
    "        else:\n",
    "            high = mid - 1\n",
    "    return -1"
   ],
   "id": "70965d70c98365c2"
  },
  {
   "metadata": {},
   "cell_type": "markdown",
   "source": [
    "### 2. Breadth First Search\n",
    "- Alg for searching a graph, FIFO queue"
   ],
   "id": "6b7c477efa8c335f"
  },
  {
   "metadata": {},
   "cell_type": "code",
   "outputs": [],
   "execution_count": null,
   "source": [
    "def bfs(graph, node):\n",
    "    visited = []\n",
    "    queue = []\n",
    "\n",
    "    visited.append(node)\n",
    "    queue.append(node)\n",
    "\n",
    "    while queue:\n",
    "        s = queue.pop(0)\n",
    "        print(s, end=\" \")\n",
    "\n",
    "        for n in graph[s]:\n",
    "            if n not in visited:\n",
    "                visited.append(n)\n",
    "                queue.append(n)"
   ],
   "id": "f67aae29e6b18e94"
  },
  {
   "metadata": {},
   "cell_type": "markdown",
   "source": [
    "### 3. Depth First Search\n",
    "- Another alg for searching graph, stack"
   ],
   "id": "a9f8a2d3488a593b"
  },
  {
   "metadata": {},
   "cell_type": "code",
   "outputs": [],
   "execution_count": null,
   "source": [
    "def dfs(graph, node):\n",
    "    visited = []\n",
    "    stack = []\n",
    "\n",
    "    visited.append(node)\n",
    "    stack.append(node)\n",
    "\n",
    "    while stack:\n",
    "        s = stack.pop()\n",
    "        print(s, end=\" \")\n",
    "\n",
    "        for n in reversed(graph[s]):\n",
    "            if n not in visited:\n",
    "                visited.append(n)\n",
    "                stack.append(n)"
   ],
   "id": "55da4dafbfac570"
  },
  {
   "metadata": {},
   "cell_type": "markdown",
   "source": [
    "## Sort Algorithms\n",
    "### 1. Merge Sort\n",
    "- Keep splitting in half until array is individual items then merge together in sorted order"
   ],
   "id": "8850cb2ed60bdbed"
  },
  {
   "metadata": {},
   "cell_type": "code",
   "outputs": [],
   "execution_count": null,
   "source": [
    "def merge_sort(arr):\n",
    "    if len(arr) <= 1:\n",
    "        return arr\n",
    "\n",
    "    mid = len(arr) // 2\n",
    "    left = arr[:mid]\n",
    "    right = arr[mid:]\n",
    "\n",
    "    left_sorted = merge_sort(left)\n",
    "    right_sorted = merge_sort(right)\n",
    "\n",
    "    return merge(left_sorted, right_sorted)\n",
    "\n",
    "\n",
    "def merge(left, right):\n",
    "    result = []\n",
    "    i = j = 0\n",
    "\n",
    "    while i < len(left) and j < len(right):\n",
    "        if left[i] <= right[j]:\n",
    "            result.append(left[i])\n",
    "            i += 1\n",
    "        else:\n",
    "            result.append(right[j])\n",
    "            j += 1\n",
    "\n",
    "    while i < len(left):\n",
    "        result.append(left[i])\n",
    "        i += 1\n",
    "\n",
    "    while j < len(right):\n",
    "        result.append(right[j])\n",
    "        j += 1\n",
    "\n",
    "    return result"
   ],
   "id": "161d649f01ec6e2b"
  },
  {
   "metadata": {},
   "cell_type": "markdown",
   "source": [
    "### 2. Quick Sort\n",
    "- Selects a pivot element and partitions array such that smaller elements are before and larger come after\n",
    "- Uses less memory as sorts in place\n",
    "- Pivot chosen by median of three"
   ],
   "id": "bd0779fc9a8ad30"
  },
  {
   "metadata": {},
   "cell_type": "code",
   "outputs": [],
   "execution_count": null,
   "source": [
    "def quick_sort(arr):\n",
    "    if len(arr) <= 1:\n",
    "        return arr\n",
    "\n",
    "    pivot = arr[len(arr) // 2]\n",
    "\n",
    "    left = [x for x in arr if x < pivot]\n",
    "    middle = [x for x in arr if x == pivot]\n",
    "    right = [x for x in arr if x > pivot]\n",
    "\n",
    "    return quick_sort(left) + middle + quick_sort(right)\n",
    "\n",
    "\n",
    "def quick_sort_inplace(arr, low=0, high=None):\n",
    "    if high is None:\n",
    "        high = len(arr) - 1\n",
    "\n",
    "    if low < high:\n",
    "        pivot_index = partition(arr, low, high)\n",
    "\n",
    "        quick_sort_inplace(arr, low, pivot_index - 1)\n",
    "        quick_sort_inplace(arr, pivot_index + 1, high)\n",
    "\n",
    "\n",
    "def partition(arr, low, high):\n",
    "    pivot = arr[high]\n",
    "\n",
    "    i = low - 1\n",
    "\n",
    "    for j in range(low, high):\n",
    "        if arr[j] <= pivot:\n",
    "            i += 1\n",
    "            arr[i], arr[j] = arr[j], arr[i]\n",
    "\n",
    "    arr[i + 1], arr[high] = arr[high], arr[i + 1]\n",
    "    return i + 1\n",
    "\n",
    "def quick_sort_random_pivot(arr, low=0, high=None):\n",
    "    import random\n",
    "\n",
    "    if high is None:\n",
    "        high = len(arr) - 1\n",
    "\n",
    "    if low < high:\n",
    "        random_index = random.randint(low, high)\n",
    "        arr[random_index], arr[high] = arr[high], arr[random_index]\n",
    "\n",
    "        pivot_index = partition(arr, low, high)\n",
    "        quick_sort_random_pivot(arr, low, pivot_index - 1)\n",
    "        quick_sort_random_pivot(arr, pivot_index + 1, high)\n"
   ],
   "id": "50af4433dae084eb"
  },
  {
   "metadata": {},
   "cell_type": "markdown",
   "source": [
    "### 3. Bubble Sort\n",
    "- Compare adjacent elements and swap them if they are in the wrong order (e.g., larger before smaller for ascending sort)\n",
    "- Repeat passes through the list, pushing the largest unsorted element to its correct position with each pass (like a “bubble” rising)\n",
    "- Terminate early if no swaps occur during a pass, indicating the list is already sorted (optional optimization)"
   ],
   "id": "c6fbc05bf1ea261a"
  },
  {
   "metadata": {},
   "cell_type": "code",
   "outputs": [],
   "execution_count": null,
   "source": [
    "def bubble_sort(arr):\n",
    "    n = len(arr)\n",
    "    while True:\n",
    "        swapped = False\n",
    "        for i in range(n - 1):\n",
    "            if arr[i] > arr[i + 1]:\n",
    "                # Swap adjacent elements if they are in the wrong order\n",
    "                arr[i], arr[i + 1] = arr[i + 1], arr[i]\n",
    "                swapped = True\n",
    "        n -= 1  # Reduce the range for next pass\n",
    "        if not swapped:\n",
    "            break\n",
    "    return arr"
   ],
   "id": "22a48b2436a80a7b"
  },
  {
   "metadata": {},
   "cell_type": "markdown",
   "source": [
    "### 4. Insertion Sort\n",
    "- Examine each item and compare to items on its left\n",
    "- Shifts larger elements to the right to make space for insertion\n",
    "- Efficient for small or nearly sorted arrays; worst-case is quadratic"
   ],
   "id": "f5dc8c29d848ee26"
  },
  {
   "metadata": {},
   "cell_type": "code",
   "outputs": [],
   "execution_count": null,
   "source": [
    "def insertion_sort(arr):\n",
    "    for i in range(1, len(arr)):\n",
    "        key = arr[i]\n",
    "        j = i - 1\n",
    "\n",
    "        # Shift elements of arr[0..i-1], that are greater than key,\n",
    "        # to one position ahead of their current position\n",
    "        while j >= 0 and arr[j] > key:\n",
    "            arr[j + 1] = arr[j]\n",
    "            j -= 1\n",
    "\n",
    "        arr[j + 1] = key\n",
    "    return arr"
   ],
   "id": "94e31edba2859087"
  },
  {
   "metadata": {},
   "cell_type": "markdown",
   "source": [
    "### 5. Selection Sort\n",
    "- Repeatedly selects the minimum element from the unsorted part and moves it to the beginning\n",
    "- Divides the array into sorted and unsorted parts and expands the sorted part one item at a time\n",
    "- Inefficient for large arrays; performance is always quadratic"
   ],
   "id": "12e96fb6c368b88"
  },
  {
   "metadata": {},
   "cell_type": "code",
   "outputs": [],
   "execution_count": null,
   "source": [
    "def selection_sort(arr):\n",
    "    n = len(arr)\n",
    "    for i in range(n):\n",
    "        # Assume the current position has the minimum\n",
    "        min_index = i\n",
    "        for j in range(i + 1, n):\n",
    "            if arr[j] < arr[min_index]:\n",
    "                min_index = j\n",
    "        # Swap the found minimum with the first unsorted element\n",
    "        arr[i], arr[min_index] = arr[min_index], arr[i]\n",
    "    return arr"
   ],
   "id": "91978e0907daf29b"
  },
  {
   "metadata": {},
   "cell_type": "markdown",
   "source": [
    "### 6. Heap Sort\n",
    "- Heap = ordered binary tree\n",
    "- Max heap = parent node > child node\n",
    "- Maintains heap property during sorting by heapifying the tree after each extraction"
   ],
   "id": "1d1c009cbd99444e"
  },
  {
   "metadata": {},
   "cell_type": "code",
   "outputs": [],
   "execution_count": null,
   "source": [
    "def heapify(arr, n, i):\n",
    "    largest = i\n",
    "    l, r = 2*i + 1, 2*i + 2\n",
    "    if l < n and arr[l] > arr[largest]:\n",
    "        largest = l\n",
    "    if r < n and arr[r] > arr[largest]:\n",
    "        largest = r\n",
    "    if largest != i:\n",
    "        arr[i], arr[largest] = arr[largest], arr[i]\n",
    "        heapify(arr, n, largest)\n",
    "\n",
    "def heap_sort(arr):\n",
    "    n = len(arr)\n",
    "    for i in range(n//2 - 1, -1, -1):\n",
    "        heapify(arr, n, i)\n",
    "    for i in range(n-1, 0, -1):\n",
    "        arr[0], arr[i] = arr[i], arr[0]\n",
    "        heapify(arr, i, 0)\n",
    "    return arr"
   ],
   "id": "32a95419e8484826"
  }
 ],
 "metadata": {
  "kernelspec": {
   "display_name": "Python 3",
   "language": "python",
   "name": "python3"
  },
  "language_info": {
   "codemirror_mode": {
    "name": "ipython",
    "version": 2
   },
   "file_extension": ".py",
   "mimetype": "text/x-python",
   "name": "python",
   "nbconvert_exporter": "python",
   "pygments_lexer": "ipython2",
   "version": "2.7.6"
  }
 },
 "nbformat": 4,
 "nbformat_minor": 5
}
