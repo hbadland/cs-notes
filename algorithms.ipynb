{
 "cells": [
  {
   "metadata": {},
   "cell_type": "markdown",
   "source": [
    "# Algorithms\n",
    "---\n",
    "## Search Algorithms\n",
    "### 1. Binary Search\n",
    "- Finds a target value in a sorted array, half the values are eliminated with each iteration"
   ],
   "id": "441a156b72631f80"
  },
  {
   "metadata": {},
   "cell_type": "code",
   "outputs": [],
   "execution_count": null,
   "source": [
    "def binary_search(array, target):\n",
    "    low = 0\n",
    "    high = len(array) - 1\n",
    "\n",
    "    while low <= high:\n",
    "        mid = (low + high) // 2\n",
    "\n",
    "        if array[mid] == target:\n",
    "            return mid\n",
    "        elif array[mid] < target:\n",
    "            low = mid + 1\n",
    "        else:\n",
    "            high = mid - 1\n",
    "    return -1"
   ],
   "id": "70965d70c98365c2"
  },
  {
   "metadata": {},
   "cell_type": "markdown",
   "source": [
    "### 2. Breadth First Search\n",
    "- Alg for searching a graph, FIFO queue"
   ],
   "id": "6b7c477efa8c335f"
  },
  {
   "metadata": {},
   "cell_type": "code",
   "outputs": [],
   "execution_count": null,
   "source": [
    "def bfs(graph, node):\n",
    "    visited = []\n",
    "    queue = []\n",
    "\n",
    "    visited.append(node)\n",
    "    queue.append(node)\n",
    "\n",
    "    while queue:\n",
    "        s = queue.pop(0)\n",
    "        print(s, end=\" \")\n",
    "\n",
    "        for n in graph[s]:\n",
    "            if n not in visited:\n",
    "                visited.append(n)\n",
    "                queue.append(n)"
   ],
   "id": "f67aae29e6b18e94"
  },
  {
   "metadata": {},
   "cell_type": "markdown",
   "source": [
    "### 3. Depth First Search\n",
    "- Another alg for searching graph, stack"
   ],
   "id": "a9f8a2d3488a593b"
  },
  {
   "metadata": {},
   "cell_type": "code",
   "outputs": [],
   "execution_count": null,
   "source": [
    "def dfs(graph, node):\n",
    "    visited = []\n",
    "    stack = []\n",
    "\n",
    "    visited.append(node)\n",
    "    stack.append(node)\n",
    "\n",
    "    while stack:\n",
    "        s = stack.pop()\n",
    "        print(s, end=\" \")\n",
    "\n",
    "        for n in reversed(graph[s]):\n",
    "            if n not in visited:\n",
    "                visited.append(n)\n",
    "                stack.append(n)"
   ],
   "id": "55da4dafbfac570"
  },
  {
   "metadata": {},
   "cell_type": "markdown",
   "source": [
    "## Sort Algorithms\n",
    "### 1. Merge Sort\n",
    "- Keep splitting in half until array is individual items"
   ],
   "id": "8850cb2ed60bdbed"
  }
 ],
 "metadata": {
  "kernelspec": {
   "display_name": "Python 3",
   "language": "python",
   "name": "python3"
  },
  "language_info": {
   "codemirror_mode": {
    "name": "ipython",
    "version": 2
   },
   "file_extension": ".py",
   "mimetype": "text/x-python",
   "name": "python",
   "nbconvert_exporter": "python",
   "pygments_lexer": "ipython2",
   "version": "2.7.6"
  }
 },
 "nbformat": 4,
 "nbformat_minor": 5
}
