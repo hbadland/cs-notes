{
 "cells": [
  {
   "metadata": {},
   "cell_type": "markdown",
   "source": [
    "# Data Structures\n",
    "---\n",
    "### Notes and example code for the most data structures in computer science"
   ],
   "id": "7f0df46374e4f58e"
  },
  {
   "metadata": {},
   "cell_type": "markdown",
   "source": [
    "## Linked List\n",
    "- Stores object in linear code, pointing to each object next in the list\n",
    "- Useful to implement stacks, queues, hash tables and dynamic memory allocation\n",
    "- Single linked = one direction pointers, doubly linked = has prev pointer too"
   ],
   "id": "a0ced62e04f2c19e"
  },
  {
   "metadata": {},
   "cell_type": "code",
   "outputs": [],
   "execution_count": null,
   "source": [
    "class Node:\n",
    "    def __init__(self, data):\n",
    "        self.data = data\n",
    "        self.next = None\n",
    "        self.prev = None\n",
    "\n",
    "def search(self, target):\n",
    "    current = self.head\n",
    "    while current:\n",
    "        if current.data == target:\n",
    "            return current\n",
    "        current = current.next\n",
    "    return None\n",
    "\n",
    "# Can insert a node at the front too\n",
    "def insert(self, node):\n",
    "    node.next = self.head\n",
    "    if self.head:\n",
    "        self.head.prev = node\n",
    "    self.head = node\n",
    "    node.prev = None\n",
    "\n",
    "# Can delete a specific node too\n",
    "def delete(self, node):\n",
    "    if node.prev is not None:\n",
    "        node.prev.next = node.next\n",
    "    else:\n",
    "        self.head = node.next\n",
    "\n",
    "    if node.next is not None:\n",
    "        node.next.prev = node.prev"
   ],
   "id": "ef3ef7b81fb75757"
  },
  {
   "metadata": {},
   "cell_type": "markdown",
   "source": [
    "## Stacks\n",
    "- Data structures that represent dynamic data (LIFO)\n",
    "- Useful for backtracking, compile-time memory management, nested functions and depth first search\n",
    "- Undo button in any software"
   ],
   "id": "4956ce92c1d64a44"
  },
  {
   "metadata": {},
   "cell_type": "code",
   "outputs": [],
   "execution_count": null,
   "source": [
    "class Stack:\n",
    "    def __init__(self):\n",
    "        self.data = []\n",
    "    def push(self, node):\n",
    "        self.data.append(node)\n",
    "    def pop(self):\n",
    "        self.data.pop()"
   ],
   "id": "e0302a56bf950993"
  },
  {
   "metadata": {},
   "cell_type": "markdown",
   "source": [
    "## Queues\n",
    "- Data structure that represents dynamic set of data (FIFO)\n",
    "- Used for CPU and disk scheduling, spotify queues and breadth first search"
   ],
   "id": "4cc169fe44635218"
  },
  {
   "metadata": {},
   "cell_type": "code",
   "outputs": [],
   "execution_count": null,
   "source": [
    "from collections import deque\n",
    "\n",
    "class Queue:\n",
    "    def __init__(self):\n",
    "        self.data = deque()\n",
    "    def enqueue(self, node):\n",
    "        self.data.append(node)\n",
    "    def dequeue(self):\n",
    "        self.data.popleft()"
   ],
   "id": "bb2b2a6adea50627"
  },
  {
   "metadata": {},
   "cell_type": "markdown",
   "source": [
    "## Hash Tables\n",
    "- Represent dynamic data, good with search\n",
    "- Synonymous with dictionaries (implementation of a dict with hashing function)\n",
    "- Hash function maps keys to location in table that holds data\n",
    "- Avoid collisions (mapping same data) with chaining, using linked lists\n",
    "- Thus hash function must maximise randomness"
   ],
   "id": "8195e95d837304b9"
  },
  {
   "metadata": {},
   "cell_type": "code",
   "outputs": [],
   "execution_count": null,
   "source": [
    "class Hashtable:\n",
    "    def __init__(self, size):\n",
    "        self.size = size\n",
    "        self.table = [[] for _ in range(size)]\n",
    "    def hash(self, key):\n",
    "        return hash(key) % self.size\n",
    "    def insert(self, key, value):\n",
    "        index = self.hash(key)\n",
    "        for pair in self.table[index]:\n",
    "            if pair[0] == key:\n",
    "                pair[1] = value\n",
    "                return\n",
    "        self.table[index].append((key, value))\n",
    "    def get(self, key):\n",
    "        index = self.hash(key)\n",
    "        for pair in self.table[index]:\n",
    "            if pair[0] == key:\n",
    "                return pair[1]\n",
    "        return None\n",
    "    def delete(self, key):\n",
    "        index = (self_.hash(key))\n",
    "        self.table[index] = [pair for pair in self.table[index] if pair[0] != key]"
   ],
   "id": "8fafe87581b9bbd"
  },
  {
   "metadata": {},
   "cell_type": "markdown",
   "source": [
    "## Heaps\n",
    "- Data structure to manage information\n",
    "- Used in heapsort and priority queues (min-heap)\n",
    "- Max-heap: i =< value of parent (opposite for min-heap)\n",
    "- Built from arrays\n",
    "### Max-heapify\n",
    "- Maintains max-heap property w/ inputs array, heap size and index\n",
    "### Build-max-heap\n",
    "- Wrapper function that calls max-heapify"
   ],
   "id": "4d93df4ce091ee59"
  },
  {
   "metadata": {},
   "cell_type": "code",
   "outputs": [],
   "execution_count": null,
   "source": [
    "def max_heapify(arr, n, i):\n",
    "    largest = i\n",
    "    left = 2 * i + 1\n",
    "    right = 2 * i + 2\n",
    "\n",
    "    if left < n and arr[left] > arr[largest]:\n",
    "        largest = left\n",
    "\n",
    "    if right < n and arr[right] > arr[largest]:\n",
    "        largest = right\n",
    "\n",
    "    if largest != i:\n",
    "        arr[i], arr[largest] = arr[largest], arr[i]\n",
    "        max_heapify(arr, n, largest)"
   ],
   "id": "f90cdfa3f092403b"
  },
  {
   "metadata": {},
   "cell_type": "markdown",
   "source": [
    "## Fibonacci Heaps\n",
    "- Data structure that makes a mergeable heap (not that common)\n",
    "- Useful for certain operations that run in constant amortized time\n",
    "- Also support decrease-key and delete\n",
    "- Used when number of extract-min and delete operations is small\n",
    "- Min spanning trees and single source shortest path in particular (not used that often)"
   ],
   "id": "974f32239963c127"
  },
  {
   "metadata": {},
   "cell_type": "code",
   "outputs": [],
   "execution_count": null,
   "source": "",
   "id": "f07c569375d6f2c2"
  }
 ],
 "metadata": {
  "kernelspec": {
   "display_name": "Python 3",
   "language": "python",
   "name": "python3"
  },
  "language_info": {
   "codemirror_mode": {
    "name": "ipython",
    "version": 2
   },
   "file_extension": ".py",
   "mimetype": "text/x-python",
   "name": "python",
   "nbconvert_exporter": "python",
   "pygments_lexer": "ipython2",
   "version": "2.7.6"
  }
 },
 "nbformat": 4,
 "nbformat_minor": 5
}
